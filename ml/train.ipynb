{
 "cells": [
  {
   "cell_type": "code",
   "execution_count": null,
   "metadata": {
    "vscode": {
     "languageId": "plaintext"
    }
   },
   "outputs": [],
   "source": [
    "import numpy as np\n",
    "import pandas as pd\n",
    "import seaborn as sns\n",
    "import matplotlib.pyplot as plt\n",
    "%matplotlib inline\n",
    "\n",
    "# import image processing libraries\n",
    "import cv2\n",
    "import skimage\n",
    "from skimage.transform import resize\n",
    "\n",
    "# import tensorflow and keras\n",
    "import tensorflow as tf\n",
    "from tensorflow import keras\n",
    "import os\n"
   ]
  },
  {
   "cell_type": "code",
   "execution_count": null,
   "metadata": {
    "vscode": {
     "languageId": "plaintext"
    }
   },
   "outputs": [],
   "source": [
    "# Configuration\n",
    "class CFG:\n",
    "    batch_size = 64\n",
    "    img_height = 64\n",
    "    img_width = 64\n",
    "    epochs = 10\n",
    "    num_classes = 29\n",
    "    img_channels = 3\n",
    "    \n",
    "def seed_everything(seed: int):\n",
    "    random.seed(seed)\n",
    "    os.environ[\"PYTHONHASHSEED\"] = str(seed)\n",
    "    np.random.seed(seed)\n",
    "    tf.random.set_seed(seed)"
   ]
  },
  {
   "cell_type": "code",
   "execution_count": null,
   "metadata": {
    "vscode": {
     "languageId": "plaintext"
    }
   },
   "outputs": [],
   "source": [
    "X_data = X_train\n",
    "y_data = y_train"
   ]
  },
  {
   "cell_type": "code",
   "execution_count": null,
   "metadata": {
    "vscode": {
     "languageId": "plaintext"
    }
   },
   "outputs": [],
   "source": [
    "from sklearn.model_selection import train_test_split\n",
    "\n",
    "X_train, X_test, y_train, y_test = train_test_split(X_data, y_data, test_size=0.3,random_state=42,stratify=y_data)"
   ]
  },
  {
   "cell_type": "code",
   "execution_count": null,
   "metadata": {
    "vscode": {
     "languageId": "plaintext"
    }
   },
   "outputs": [],
   "source": [
    "from tensorflow.keras.utils import to_categorical\n",
    "y_cat_train = to_categorical(y_train,29)\n",
    "y_cat_test = to_categorical(y_test,29)"
   ]
  },
  {
   "cell_type": "code",
   "execution_count": null,
   "metadata": {
    "vscode": {
     "languageId": "plaintext"
    }
   },
   "outputs": [],
   "source": [
    "from keras.models import Sequential\n",
    "from keras.layers import Conv2D, MaxPooling2D, Activation, Dense, Flatten\n"
   ]
  },
  {
   "cell_type": "code",
   "execution_count": null,
   "metadata": {
    "vscode": {
     "languageId": "plaintext"
    }
   },
   "outputs": [],
   "source": [
    "model = Sequential()\n",
    "\n",
    "model.add(Conv2D(32, (5, 5), input_shape=(64, 64, 3)))\n",
    "model.add(Activation('relu'))\n",
    "model.add(MaxPooling2D((2, 2)))\n",
    "\n",
    "model.add(Conv2D(64, (3, 3)))\n",
    "model.add(Activation('relu'))\n",
    "model.add(MaxPooling2D((2, 2)))\n",
    "\n",
    "model.add(Conv2D(64, (3, 3)))\n",
    "model.add(Activation('relu'))\n",
    "model.add(MaxPooling2D((2, 2)))\n",
    "\n",
    "model.add(Flatten())\n",
    "\n",
    "model.add(Dense(128, activation='relu'))\n",
    "\n",
    "model.add(Dense(29, activation='softmax'))\n",
    "\n",
    "model.summary()"
   ]
  },
  {
   "cell_type": "code",
   "execution_count": null,
   "metadata": {
    "vscode": {
     "languageId": "plaintext"
    }
   },
   "outputs": [],
   "source": [
    "TRAIN_PATH = \"/kaggle/input/asl-alphabet/asl_alphabet_train/asl_alphabet_train\"\n",
    "labels = []\n",
    "alphabet = list(string.ascii_uppercase)\n",
    "labels.extend(alphabet)\n",
    "labels.extend([\"del\", \"nothing\", \"space\"])\n",
    "print(labels)"
   ]
  },
  {
   "cell_type": "code",
   "execution_count": null,
   "metadata": {
    "vscode": {
     "languageId": "plaintext"
    }
   },
   "outputs": [],
   "source": [
    "\n",
    "list_path = []\n",
    "list_labels = []\n",
    "for label in labels:\n",
    "    label_path = os.path.join(TRAIN_PATH, label, \"*\")\n",
    "    image_files = glob.glob(label_path)\n",
    "    \n",
    "    sign_label = [label] * len(image_files)\n",
    "    \n",
    "    list_path.extend(image_files)\n",
    "    list_labels.extend(sign_label)\n",
    "\n",
    "metadata = pd.DataFrame({\n",
    "    \"image_path\": list_path,\n",
    "    \"label\": list_labels\n",
    "})\n",
    "\n",
    "metadata"
   ]
  },
  {
   "cell_type": "code",
   "execution_count": null,
   "metadata": {
    "vscode": {
     "languageId": "plaintext"
    }
   },
   "outputs": [],
   "source": [
    "# Split Dataset to Train 0.7, Val 0.15, and Test 0.15\n",
    "X_train, X_test, y_train, y_test = train_test_split(\n",
    "    metadata[\"image_path\"], metadata[\"label\"], \n",
    "    test_size=0.15, \n",
    "    random_state=2023, \n",
    "    shuffle=True, \n",
    "    stratify=metadata[\"label\"]\n",
    ")\n",
    "data_train = pd.DataFrame({\n",
    "    \"image_path\": X_train,\n",
    "    \"label\": y_train\n",
    "})\n",
    "\n",
    "X_train, X_val, y_train, y_val = train_test_split(\n",
    "    data_train[\"image_path\"], data_train[\"label\"],\n",
    "    test_size=0.15/0.70,\n",
    "    random_state=2023,\n",
    "    shuffle=True,\n",
    "    stratify=data_train[\"label\"]\n",
    ")\n",
    "data_train = pd.DataFrame({\n",
    "    \"image_path\": X_train,\n",
    "    \"label\": y_train\n",
    "})\n",
    "data_val = pd.DataFrame({\n",
    "    \"image_path\": X_val,\n",
    "    \"label\": y_val\n",
    "})\n",
    "data_test = pd.DataFrame({\n",
    "    \"image_path\": X_test,\n",
    "    \"label\": y_test\n",
    "})\n",
    "\n",
    "display(data_train)\n",
    "display(data_val)\n",
    "display(data_test)"
   ]
  },
  {
   "cell_type": "code",
   "execution_count": null,
   "metadata": {
    "vscode": {
     "languageId": "plaintext"
    }
   },
   "outputs": [],
   "source": [
    "\n",
    "def data_augmentation():\n",
    "    datagen = ImageDataGenerator(\n",
    "    rescale=1/255.,\n",
    "    rotation_range=20,\n",
    "    width_shift_range=0.2,\n",
    "    height_shift_range=0.2,\n",
    "    brightness_range=[0.8,1.2],\n",
    "    zoom_range=0.2,\n",
    "    fill_mode='nearest'\n",
    "    )   \n",
    "    train_generator = datagen.flow_from_dataframe(\n",
    "        data_train,\n",
    "        directory=\"./\",\n",
    "        x_col=\"image_path\",\n",
    "        y_col=\"label\",\n",
    "        class_mode=\"categorical\",\n",
    "        batch_size=CFG.batch_size,\n",
    "        target_size=(CFG.img_height, CFG.img_width),\n",
    "    )\n",
    "\n",
    "    validation_generator = datagen.flow_from_dataframe(\n",
    "        data_val,\n",
    "        directory=\"./\",\n",
    "        x_col=\"image_path\",\n",
    "        y_col=\"label\",\n",
    "        class_mode=\"categorical\",\n",
    "        batch_size=CFG.batch_size,\n",
    "        target_size=(CFG.img_height, CFG.img_width),\n",
    "    )\n",
    "    \n",
    "    test_generator = datagen.flow_from_dataframe(\n",
    "        data_test,\n",
    "        directory=\"./\",\n",
    "        x_col=\"image_path\",\n",
    "        y_col=\"label\",\n",
    "        class_mode=\"categorical\",\n",
    "        batch_size=1,\n",
    "        target_size=(CFG.img_height, CFG.img_width),\n",
    "        shuffle=False\n",
    "    )\n",
    "    \n",
    "    return train_generator, validation_generator, test_generator"
   ]
  },
  {
   "cell_type": "code",
   "execution_count": null,
   "metadata": {
    "vscode": {
     "languageId": "plaintext"
    }
   },
   "outputs": [],
   "source": [
    "seed_everything(2023)\n",
    "train_generator, validation_generator, test_generator = data_augmentation()"
   ]
  },
  {
   "cell_type": "code",
   "execution_count": null,
   "metadata": {
    "vscode": {
     "languageId": "plaintext"
    }
   },
   "outputs": [],
   "source": [
    "base_model = VGG16(weights='imagenet', include_top=False, input_shape=(CFG.img_height, CFG.img_width, CFG.img_channels))\n",
    "\n",
    "for layer in base_model.layers:\n",
    "    layer.trainable = False\n",
    "\n",
    "x = base_model.output\n",
    "x = Flatten()(x)\n",
    "x = Dense(512, activation='relu')(x)\n",
    "x = Dropout(0.5)(x)\n",
    "x = Dense(512, activation='relu')(x)\n",
    "x = Dropout(0.5)(x)\n",
    "predictions = Dense(29, activation='softmax')(x)\n",
    "\n",
    "model = Model(inputs=base_model.input, outputs=predictions)\n",
    "\n",
    "display(model.summary())\n",
    "display(tf.keras.utils.plot_model(model, to_file='vgg16.png', show_shapes=True))"
   ]
  },
  {
   "cell_type": "code",
   "execution_count": null,
   "metadata": {
    "vscode": {
     "languageId": "plaintext"
    }
   },
   "outputs": [],
   "source": [
    "model.compile(optimizer=Adam(learning_rate=0.001), loss='categorical_crossentropy', metrics=['accuracy'])\n",
    "\n",
    "checkpoint = ModelCheckpoint('asl_vgg16_best_weights.h5', save_best_only=True, monitor='val_accuracy', mode='max')"
   ]
  },
  {
   "cell_type": "code",
   "execution_count": null,
   "metadata": {
    "vscode": {
     "languageId": "plaintext"
    }
   },
   "outputs": [],
   "source": [
    "history = model.fit(\n",
    "    train_generator,\n",
    "    steps_per_epoch=train_generator.samples // CFG.batch_size,\n",
    "    epochs=CFG.epochs,\n",
    "    validation_data=validation_generator,\n",
    "    validation_steps=validation_generator.samples // CFG.batch_size,\n",
    "    callbacks=[checkpoint]\n",
    ")"
   ]
  },
  {
   "cell_type": "code",
   "execution_count": null,
   "metadata": {
    "vscode": {
     "languageId": "plaintext"
    }
   },
   "outputs": [],
   "source": [
    "scores = model.evaluate(test_generator)\n",
    "print(\"%s: %.2f%%\" % (\"Evaluate Test Accuracy\", scores[1]*100))"
   ]
  },
  {
   "cell_type": "code",
   "execution_count": null,
   "metadata": {
    "vscode": {
     "languageId": "plaintext"
    }
   },
   "outputs": [],
   "source": [
    "\n",
    "# Create Subplot\n",
    "fig = make_subplots(\n",
    "        rows=1, cols=2,\n",
    "        subplot_titles=[\"Model Loss\", \"Model Accuracy\"], \n",
    ")\n",
    "\n",
    "# Configuration Plot\n",
    "class PlotCFG:\n",
    "    marker_size = 8\n",
    "    line_size = 2\n",
    "    train_color = \"#76503d\"\n",
    "    valid_color = \"#deb392\"\n",
    "\n",
    "# Loss Plot\n",
    "loss = history.history['loss']\n",
    "val_loss = history.history['val_loss']\n",
    "fig.add_trace(\n",
    "    go.Scatter(\n",
    "        x=np.arange(1, len(loss)+1), y=loss,\n",
    "        mode=\"markers+lines\",\n",
    "        marker=dict(\n",
    "            color=PlotCFG.train_color, size=PlotCFG.marker_size,\n",
    "            line=dict(color=\"White\", width=0.5)\n",
    "        ),\n",
    "        line=dict(color=PlotCFG.train_color, width=PlotCFG.line_size),\n",
    "        name=\"Training Loss\"\n",
    "    ), row=1, col=1\n",
    ")\n",
    "fig.add_trace(\n",
    "    go.Scatter(\n",
    "        x=np.arange(1, len(val_loss)+1), y=val_loss,\n",
    "        mode=\"markers+lines\",\n",
    "        marker=dict(\n",
    "            color=PlotCFG.valid_color, size=PlotCFG.marker_size,\n",
    "            line=dict(color=\"White\", width=0.5)\n",
    "        ),\n",
    "        line=dict(color=PlotCFG.valid_color, width=PlotCFG.line_size),\n",
    "        name=\"Validation Loss\"\n",
    "    ), row=1, col=1\n",
    ")\n",
    "\n",
    "# Accuracy Plot\n",
    "acc = history.history['accuracy']\n",
    "val_acc = history.history['val_accuracy']\n",
    "fig.add_trace(\n",
    "    go.Scatter(\n",
    "        x=np.arange(1, len(acc)+1), y=acc,\n",
    "        mode=\"markers+lines\",\n",
    "        marker=dict(\n",
    "            color=PlotCFG.train_color, size=PlotCFG.marker_size,\n",
    "            line=dict(color=\"White\", width=0.5)\n",
    "        ),\n",
    "        line=dict(color=PlotCFG.train_color, width=PlotCFG.line_size),\n",
    "        name=\"Training Accuracy\"\n",
    "    ), row=1, col=2\n",
    ")\n",
    "fig.add_trace(\n",
    "    go.Scatter(\n",
    "        x=np.arange(1, len(val_acc)+1), y=val_acc,\n",
    "        mode=\"markers+lines\",\n",
    "        marker=dict(\n",
    "            color=PlotCFG.valid_color, size=PlotCFG.marker_size,\n",
    "            line=dict(color=\"White\", width=0.5)\n",
    "        ),\n",
    "        line=dict(color=PlotCFG.valid_color, width=PlotCFG.line_size),\n",
    "        name=\"Validation Accuracy\"\n",
    "    ), row=1, col=2\n",
    ")\n",
    "\n",
    "# Update Axes\n",
    "fig.update_xaxes(title=\"Epochs\", linecolor=\"Black\", ticks=\"outside\", row=1, col=1)\n",
    "fig.update_xaxes(title=\"Epochs\", linecolor=\"Black\", ticks=\"outside\", row=1, col=2)\n",
    "fig.update_yaxes(title=\"Categorical Loss\", linecolor=\"Black\", ticks=\"outside\", row=1, col=1)\n",
    "fig.update_yaxes(title=\"Accuracy\", linecolor=\"Black\", ticks=\"outside\", row=1, col=2)\n",
    "\n",
    "# Update Layout\n",
    "fig.update_layout(\n",
    "    title=\"Training Loss and Metrics\", title_x=0.5,\n",
    "    width=950, height=400,\n",
    "    showlegend=False,\n",
    "    plot_bgcolor=\"White\",\n",
    "    paper_bgcolor=\"White\"\n",
    ")\n",
    "\n",
    "# Show\n",
    "fig.show(iframe_connected=True)"
   ]
  },
  {
   "cell_type": "code",
   "execution_count": null,
   "metadata": {
    "vscode": {
     "languageId": "plaintext"
    }
   },
   "outputs": [],
   "source": [
    "fine_tuned_model = load_model(\"/kaggle/working/asl_vgg16_best_weights.h5\")\n",
    "predictions = fine_tuned_model.predict(test_generator)\n",
    "\n",
    "# Get the true labels from the generator\n",
    "true_labels = test_generator.classes\n",
    "\n",
    "# Compute the confusion matrix using tf.math.confusion_matrix\n",
    "confusion_matrix = tf.math.confusion_matrix(\n",
    "        labels=true_labels,\n",
    "        predictions=predictions.argmax(axis=1),\n",
    "        num_classes=29)"
   ]
  },
  {
   "cell_type": "code",
   "execution_count": null,
   "metadata": {
    "vscode": {
     "languageId": "plaintext"
    }
   },
   "outputs": [],
   "source": [
    "# Create Figure\n",
    "fig = go.Figure()\n",
    "\n",
    "# Heatmap\n",
    "fig.add_trace(\n",
    "    go.Heatmap(\n",
    "        z=confusion_matrix,\n",
    "        x=labels,\n",
    "        y=labels,\n",
    "        text=confusion_matrix,\n",
    "        texttemplate=\"<b>%{text}</b>\",\n",
    "        textfont={\"size\":8},\n",
    "        colorscale=[[0, '#f4f4f4'],[1.0, '#76503d']],\n",
    "        showscale = False,\n",
    "        ygap = 5,\n",
    "        xgap = 5,\n",
    "        hovertemplate=\n",
    "        '''\n",
    "        Actual: %{y}<br>\n",
    "        Predicted: %{x}<br>\n",
    "        Total: %{text}\n",
    "        ''',\n",
    "        name=\"Confusion Matrix\"\n",
    "    )\n",
    ")\n",
    "\n",
    "# Update Axes\n",
    "fig.update_xaxes(title=\"<b>Predicted Values</b>\", tickfont_size=10)\n",
    "fig.update_yaxes(title=\"<b>Actual Values</b>\", tickfont_size=10)\n",
    "\n",
    "# Update Layout\n",
    "fig.update_layout(title_text='Confusion Matrix', title_x=0.5, font_size=14,\n",
    "                  width=1050, \n",
    "                  height=1115,\n",
    "                  plot_bgcolor='white',\n",
    "                  showlegend=False,\n",
    ")\n",
    "\n",
    "# Show\n",
    "fig.show()"
   ]
  },
  {
   "cell_type": "code",
   "execution_count": null,
   "metadata": {
    "vscode": {
     "languageId": "plaintext"
    }
   },
   "outputs": [],
   "source": [
    "dense_model = Model(inputs=fine_tuned_model.inputs, outputs=fine_tuned_model.layers[-3].output)\n",
    "dense_model.summary()"
   ]
  },
  {
   "cell_type": "code",
   "execution_count": null,
   "metadata": {
    "vscode": {
     "languageId": "plaintext"
    }
   },
   "outputs": [],
   "source": [
    "print(labels)   "
   ]
  },
  {
   "cell_type": "code",
   "execution_count": null,
   "metadata": {
    "vscode": {
     "languageId": "plaintext"
    }
   },
   "outputs": [],
   "source": [
    "# Extract Features in Dense Layer\n",
    "def dense_feature_prediction(img_path):\n",
    "    img = load_img(img_path, target_size=(CFG.img_height, CFG.img_width))\n",
    "    img = img_to_array(img)\n",
    "    img = img / 255.\n",
    "    img = np.expand_dims(img, axis=0)\n",
    "    dense_feature = dense_model.predict(img, verbose=0)[0]\n",
    "    return dense_feature\n",
    "\n",
    "reduction_data = pd.DataFrame()\n",
    "for label in labels:\n",
    "    label_data = data_test[data_test[\"label\"]==label][:100]\n",
    "    reduction_data = reduction_data.append(label_data)\n",
    "\n",
    "reduction_data = reduction_data.reset_index(drop=True)\n",
    "display(reduction_data)\n",
    "\n",
    "dense_features = reduction_data[\"image_path\"].progress_apply(dense_feature_prediction)\n",
    "dense_features = pd.DataFrame.from_records(dense_features.values, index=dense_features.index)"
   ]
  }
 ],
 "metadata": {
  "language_info": {
   "name": "python"
  }
 },
 "nbformat": 4,
 "nbformat_minor": 2
}
